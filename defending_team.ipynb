{
 "cells": [
  {
   "cell_type": "code",
   "execution_count": 1,
   "id": "027ae618",
   "metadata": {},
   "outputs": [],
   "source": [
    "import pandas as pd\n",
    "import matplotlib.pyplot as plt"
   ]
  },
  {
   "cell_type": "code",
   "execution_count": null,
   "id": "b95bf7c4",
   "metadata": {},
   "outputs": [],
   "source": []
  },
  {
   "cell_type": "code",
   "execution_count": 2,
   "id": "50e316e8",
   "metadata": {},
   "outputs": [
    {
     "name": "stdout",
     "output_type": "stream",
     "text": [
      "Available Themes: \r\n",
      "   chesterish\r\n",
      "   grade3\r\n",
      "   gruvboxd\r\n",
      "   gruvboxl\r\n",
      "   monokai\r\n",
      "   oceans16\r\n",
      "   onedork\r\n",
      "   solarizedd\r\n",
      "   solarizedl\r\n"
     ]
    }
   ],
   "source": [
    "!jt -l"
   ]
  },
  {
   "cell_type": "code",
   "execution_count": 3,
   "id": "06c4d96d",
   "metadata": {},
   "outputs": [],
   "source": [
    "!jt -t chesterish "
   ]
  },
  {
   "cell_type": "code",
   "execution_count": 4,
   "id": "e0f94ca6",
   "metadata": {
    "scrolled": true
   },
   "outputs": [
    {
     "data": {
      "text/html": [
       "<div>\n",
       "<style scoped>\n",
       "    .dataframe tbody tr th:only-of-type {\n",
       "        vertical-align: middle;\n",
       "    }\n",
       "\n",
       "    .dataframe tbody tr th {\n",
       "        vertical-align: top;\n",
       "    }\n",
       "\n",
       "    .dataframe thead th {\n",
       "        text-align: right;\n",
       "    }\n",
       "</style>\n",
       "<table border=\"1\" class=\"dataframe\">\n",
       "  <thead>\n",
       "    <tr style=\"text-align: right;\">\n",
       "      <th></th>\n",
       "      <th>serial</th>\n",
       "      <th>player_name</th>\n",
       "      <th>club</th>\n",
       "      <th>position</th>\n",
       "      <th>balls_recoverd</th>\n",
       "      <th>tackles</th>\n",
       "      <th>t_won</th>\n",
       "      <th>t_lost</th>\n",
       "      <th>clearance_attempted</th>\n",
       "      <th>match_played</th>\n",
       "    </tr>\n",
       "  </thead>\n",
       "  <tbody>\n",
       "    <tr>\n",
       "      <th>0</th>\n",
       "      <td>1</td>\n",
       "      <td>Casemiro</td>\n",
       "      <td>Real Madrid</td>\n",
       "      <td>Midfielder</td>\n",
       "      <td>76</td>\n",
       "      <td>31</td>\n",
       "      <td>13</td>\n",
       "      <td>18</td>\n",
       "      <td>19</td>\n",
       "      <td>11</td>\n",
       "    </tr>\n",
       "    <tr>\n",
       "      <th>1</th>\n",
       "      <td>1</td>\n",
       "      <td>Éder Militão</td>\n",
       "      <td>Real Madrid</td>\n",
       "      <td>Defender</td>\n",
       "      <td>76</td>\n",
       "      <td>19</td>\n",
       "      <td>6</td>\n",
       "      <td>13</td>\n",
       "      <td>32</td>\n",
       "      <td>12</td>\n",
       "    </tr>\n",
       "    <tr>\n",
       "      <th>2</th>\n",
       "      <td>1</td>\n",
       "      <td>Reinildo</td>\n",
       "      <td>Atlético</td>\n",
       "      <td>Defender</td>\n",
       "      <td>76</td>\n",
       "      <td>13</td>\n",
       "      <td>6</td>\n",
       "      <td>7</td>\n",
       "      <td>20</td>\n",
       "      <td>10</td>\n",
       "    </tr>\n",
       "    <tr>\n",
       "      <th>3</th>\n",
       "      <td>4</td>\n",
       "      <td>Fabinho</td>\n",
       "      <td>Liverpool</td>\n",
       "      <td>Midfielder</td>\n",
       "      <td>74</td>\n",
       "      <td>23</td>\n",
       "      <td>9</td>\n",
       "      <td>14</td>\n",
       "      <td>8</td>\n",
       "      <td>13</td>\n",
       "    </tr>\n",
       "    <tr>\n",
       "      <th>4</th>\n",
       "      <td>5</td>\n",
       "      <td>Albiol</td>\n",
       "      <td>Villarreal</td>\n",
       "      <td>Defender</td>\n",
       "      <td>73</td>\n",
       "      <td>9</td>\n",
       "      <td>6</td>\n",
       "      <td>3</td>\n",
       "      <td>62</td>\n",
       "      <td>12</td>\n",
       "    </tr>\n",
       "    <tr>\n",
       "      <th>...</th>\n",
       "      <td>...</td>\n",
       "      <td>...</td>\n",
       "      <td>...</td>\n",
       "      <td>...</td>\n",
       "      <td>...</td>\n",
       "      <td>...</td>\n",
       "      <td>...</td>\n",
       "      <td>...</td>\n",
       "      <td>...</td>\n",
       "      <td>...</td>\n",
       "    </tr>\n",
       "    <tr>\n",
       "      <th>622</th>\n",
       "      <td>578</td>\n",
       "      <td>Maier</td>\n",
       "      <td>Young Boys</td>\n",
       "      <td>Midfielder</td>\n",
       "      <td>1</td>\n",
       "      <td>0</td>\n",
       "      <td>0</td>\n",
       "      <td>0</td>\n",
       "      <td>0</td>\n",
       "      <td>1</td>\n",
       "    </tr>\n",
       "    <tr>\n",
       "      <th>623</th>\n",
       "      <td>578</td>\n",
       "      <td>Zhegrova</td>\n",
       "      <td>LOSC</td>\n",
       "      <td>Midfielder</td>\n",
       "      <td>1</td>\n",
       "      <td>0</td>\n",
       "      <td>0</td>\n",
       "      <td>0</td>\n",
       "      <td>0</td>\n",
       "      <td>1</td>\n",
       "    </tr>\n",
       "    <tr>\n",
       "      <th>624</th>\n",
       "      <td>578</td>\n",
       "      <td>Zesiger</td>\n",
       "      <td>Young Boys</td>\n",
       "      <td>Defender</td>\n",
       "      <td>1</td>\n",
       "      <td>0</td>\n",
       "      <td>0</td>\n",
       "      <td>0</td>\n",
       "      <td>0</td>\n",
       "      <td>1</td>\n",
       "    </tr>\n",
       "    <tr>\n",
       "      <th>625</th>\n",
       "      <td>578</td>\n",
       "      <td>Zakaria</td>\n",
       "      <td>Juventus</td>\n",
       "      <td>Midfielder</td>\n",
       "      <td>1</td>\n",
       "      <td>0</td>\n",
       "      <td>0</td>\n",
       "      <td>0</td>\n",
       "      <td>0</td>\n",
       "      <td>1</td>\n",
       "    </tr>\n",
       "    <tr>\n",
       "      <th>626</th>\n",
       "      <td>578</td>\n",
       "      <td>Edwards</td>\n",
       "      <td>Sporting CP</td>\n",
       "      <td>Forward</td>\n",
       "      <td>1</td>\n",
       "      <td>0</td>\n",
       "      <td>0</td>\n",
       "      <td>0</td>\n",
       "      <td>0</td>\n",
       "      <td>1</td>\n",
       "    </tr>\n",
       "  </tbody>\n",
       "</table>\n",
       "<p>627 rows × 10 columns</p>\n",
       "</div>"
      ],
      "text/plain": [
       "     serial   player_name         club    position  balls_recoverd  tackles  \\\n",
       "0         1      Casemiro  Real Madrid  Midfielder              76       31   \n",
       "1         1  Éder Militão  Real Madrid    Defender              76       19   \n",
       "2         1      Reinildo     Atlético    Defender              76       13   \n",
       "3         4       Fabinho    Liverpool  Midfielder              74       23   \n",
       "4         5        Albiol   Villarreal    Defender              73        9   \n",
       "..      ...           ...          ...         ...             ...      ...   \n",
       "622     578         Maier   Young Boys  Midfielder               1        0   \n",
       "623     578      Zhegrova         LOSC  Midfielder               1        0   \n",
       "624     578       Zesiger   Young Boys    Defender               1        0   \n",
       "625     578       Zakaria     Juventus  Midfielder               1        0   \n",
       "626     578       Edwards  Sporting CP     Forward               1        0   \n",
       "\n",
       "     t_won  t_lost  clearance_attempted  match_played  \n",
       "0       13      18                   19            11  \n",
       "1        6      13                   32            12  \n",
       "2        6       7                   20            10  \n",
       "3        9      14                    8            13  \n",
       "4        6       3                   62            12  \n",
       "..     ...     ...                  ...           ...  \n",
       "622      0       0                    0             1  \n",
       "623      0       0                    0             1  \n",
       "624      0       0                    0             1  \n",
       "625      0       0                    0             1  \n",
       "626      0       0                    0             1  \n",
       "\n",
       "[627 rows x 10 columns]"
      ]
     },
     "execution_count": 4,
     "metadata": {},
     "output_type": "execute_result"
    }
   ],
   "source": [
    "def_df = pd.read_csv('defending.csv')\n",
    "def_df"
   ]
  },
  {
   "cell_type": "code",
   "execution_count": 5,
   "id": "9842510f",
   "metadata": {},
   "outputs": [
    {
     "data": {
      "image/png": "[encoded data removed]",
      "text/plain": [
       "<Figure size 640x480 with 1 Axes>"
      ]
     },
     "metadata": {},
     "output_type": "display_data"
    }
   ],
   "source": [
    "plt.bar(def_df['serial'],def_df['balls_recoverd'])\n",
    "plt.xlabel('serial num')\n",
    "plt.ylabel('num of balls recovered')\n",
    "plt.show()"
   ]
  },
  {
   "cell_type": "code",
   "execution_count": 6,
   "id": "51ef8b93",
   "metadata": {},
   "outputs": [
    {
     "data": {
      "image/png": "[encoded data removed]",
      "text/plain": [
       "<Figure size 640x480 with 1 Axes>"
      ]
     },
     "metadata": {},
     "output_type": "display_data"
    }
   ],
   "source": [
    "plt.plot(def_df['serial'],def_df['match_played'],color='pink')\n",
    "plt.xlabel('serial num')\n",
    "plt.ylabel('num of matches played')\n",
    "plt.show()"
   ]
  },
  {
   "cell_type": "code",
   "execution_count": 19,
   "id": "a20bd1aa",
   "metadata": {},
   "outputs": [],
   "source": [
    "position_v_balls=def_df.groupby('position')['balls_recoverd'].mean()"
   ]
  },
  {
   "cell_type": "code",
   "execution_count": 20,
   "id": "2b8f3e8b",
   "metadata": {},
   "outputs": [
    {
     "data": {
      "text/plain": [
       "position\n",
       "Defender      22.757322\n",
       "Forward        6.841270\n",
       "Midfielder    15.213740\n",
       "Name: balls_recoverd, dtype: float64"
      ]
     },
     "execution_count": 20,
     "metadata": {},
     "output_type": "execute_result"
    }
   ],
   "source": [
    "position_v_balls"
   ]
  },
  {
   "cell_type": "code",
   "execution_count": 10,
   "id": "7a688e91",
   "metadata": {},
   "outputs": [
    {
     "data": {
      "text/plain": [
       "position\n",
       "Midfielder    262\n",
       "Defender      239\n",
       "Forward       126\n",
       "dtype: int64"
      ]
     },
     "execution_count": 10,
     "metadata": {},
     "output_type": "execute_result"
    }
   ],
   "source": [
    "def_df.value_counts('position')"
   ]
  },
  {
   "cell_type": "code",
   "execution_count": 11,
   "id": "605015f2",
   "metadata": {},
   "outputs": [
    {
     "data": {
      "text/plain": [
       "club\n",
       "Man. United         24\n",
       "Liverpool           24\n",
       "Beşiktaş            23\n",
       "Chelsea             22\n",
       "Villarreal          22\n",
       "Juventus            21\n",
       "Real Madrid         21\n",
       "Sporting CP         21\n",
       "Dortmund            21\n",
       "Man. City           21\n",
       "Atlético            20\n",
       "Barcelona           20\n",
       "Shakhtar Donetsk    20\n",
       "Milan               20\n",
       "Leipzig             20\n",
       "Atalanta            19\n",
       "Zenit               19\n",
       "Sevilla             19\n",
       "Dynamo Kyiv         19\n",
       "Young Boys          19\n",
       "Benfica             19\n",
       "Bayern              19\n",
       "Salzburg            19\n",
       "Wolfsburg           18\n",
       "Ajax                18\n",
       "Porto               18\n",
       "LOSC                18\n",
       "Inter               18\n",
       "Paris               17\n",
       "Malmö               17\n",
       "Sheriff             16\n",
       "Club Brugge         15\n",
       "dtype: int64"
      ]
     },
     "execution_count": 11,
     "metadata": {},
     "output_type": "execute_result"
    }
   ],
   "source": [
    "def_df.value_counts('club')"
   ]
  },
  {
   "cell_type": "code",
   "execution_count": 16,
   "id": "ac0b9430",
   "metadata": {},
   "outputs": [],
   "source": [
    "club_v_score=def_df.groupby('club')['balls_recoverd'].mean()"
   ]
  },
  {
   "cell_type": "code",
   "execution_count": null,
   "id": "84efbafc",
   "metadata": {},
   "outputs": [],
   "source": []
  },
  {
   "cell_type": "code",
   "execution_count": 17,
   "id": "064f2df1",
   "metadata": {},
   "outputs": [
    {
     "data": {
      "text/plain": [
       "club\n",
       "Ajax                18.166667\n",
       "Atalanta            14.736842\n",
       "Atlético            23.700000\n",
       "Barcelona           11.750000\n",
       "Bayern              23.105263\n",
       "Benfica             20.526316\n",
       "Beşiktaş            12.000000\n",
       "Chelsea             18.318182\n",
       "Club Brugge         17.466667\n",
       "Dortmund            13.428571\n",
       "Dynamo Kyiv         12.473684\n",
       "Inter               17.000000\n",
       "Juventus            16.619048\n",
       "LOSC                17.388889\n",
       "Leipzig             13.000000\n",
       "Liverpool           24.083333\n",
       "Malmö               12.294118\n",
       "Man. City           21.333333\n",
       "Man. United         13.208333\n",
       "Milan               13.550000\n",
       "Paris               16.470588\n",
       "Porto               13.277778\n",
       "Real Madrid         24.476190\n",
       "Salzburg            19.421053\n",
       "Sevilla             14.315789\n",
       "Shakhtar Donetsk    10.450000\n",
       "Sheriff             14.125000\n",
       "Sporting CP         13.380952\n",
       "Villarreal          21.000000\n",
       "Wolfsburg           14.444444\n",
       "Young Boys          14.578947\n",
       "Zenit               12.736842\n",
       "Name: balls_recoverd, dtype: float64"
      ]
     },
     "execution_count": 17,
     "metadata": {},
     "output_type": "execute_result"
    }
   ],
   "source": [
    "club_v_score"
   ]
  },
  {
   "cell_type": "code",
   "execution_count": 24,
   "id": "d5fe9c19",
   "metadata": {},
   "outputs": [
    {
     "data": {
      "text/plain": [
       "(array([2., 6., 8., 1., 4., 3., 1., 3., 0., 4.]),\n",
       " array([10.45      , 11.85261905, 13.2552381 , 14.65785714, 16.06047619,\n",
       "        17.46309524, 18.86571429, 20.26833333, 21.67095238, 23.07357143,\n",
       "        24.47619048]),\n",
       " <BarContainer object of 10 artists>)"
      ]
     },
     "execution_count": 24,
     "metadata": {},
     "output_type": "execute_result"
    },
    {
     "data": {
      "image/png": "[encoded data removed]",
      "text/plain": [
       "<Figure size 640x480 with 1 Axes>"
      ]
     },
     "metadata": {},
     "output_type": "display_data"
    }
   ],
   "source": [
    "plt.hist(club_v_score)"
   ]
  },
  {
   "cell_type": "code",
   "execution_count": 26,
   "id": "2a253df2",
   "metadata": {},
   "outputs": [
    {
     "data": {
      "text/plain": [
       "([<matplotlib.patches.Wedge at 0x7f32ec6ea410>,\n",
       "  <matplotlib.patches.Wedge at 0x7f32ec6563e0>,\n",
       "  <matplotlib.patches.Wedge at 0x7f32ec6ea920>],\n",
       " [Text(-0.02707710028148015, 1.0996666907023904, ''),\n",
       "  Text(-0.9497283187952191, -0.554992000373345, ''),\n",
       "  Text(0.5314458424345455, -0.9631019242837366, '')])"
      ]
     },
     "execution_count": 26,
     "metadata": {},
     "output_type": "execute_result"
    },
    {
     "data": {
      "image/png": "[encoded data removed]",
      "text/plain": [
       "<Figure size 640x480 with 1 Axes>"
      ]
     },
     "metadata": {},
     "output_type": "display_data"
    }
   ],
   "source": [
    "plt.pie(position_v_balls)"
   ]
  }
 ],
 "metadata": {
  "kernelspec": {
   "display_name": "Python 3 (ipykernel)",
   "language": "python",
   "name": "python3"
  },
  "language_info": {
   "codemirror_mode": {
    "name": "ipython",
    "version": 3
   },
   "file_extension": ".py",
   "mimetype": "text/x-python",
   "name": "python",
   "nbconvert_exporter": "python",
   "pygments_lexer": "ipython3",
   "version": "3.10.9"
  }
 },
 "nbformat": 4,
 "nbformat_minor": 5
}
